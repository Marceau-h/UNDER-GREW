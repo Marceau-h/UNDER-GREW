{
 "cells": [
  {
   "cell_type": "code",
   "execution_count": 1,
   "id": "initial_id",
   "metadata": {
    "collapsed": true,
    "ExecuteTime": {
     "end_time": "2023-09-19T15:58:04.000007100Z",
     "start_time": "2023-09-19T15:57:54.710955600Z"
    }
   },
   "outputs": [],
   "source": [
    "import json\n",
    "import re\n",
    "from pathlib import Path\n",
    "from io import StringIO\n",
    "from multiprocessing import Pool, cpu_count\n",
    "\n",
    "import pandas as pd\n",
    "from tqdm.auto import tqdm\n",
    "\n",
    "import spacy\n",
    "\n",
    "subfolder: Path\n",
    "\n",
    "nlp: spacy.language = spacy.load(\"fr_core_news_sm\")\n",
    "columns: list[str] = [\"ID\", \"FORM\", \"LEMMA\", \"UPOS\", \"XPOS\", \"FEATS\", \"HEAD\", \"DEPREL\", \"DEPS\", \"MISC\"]\n",
    "ud_dir: Path = Path(\"UD\")\n",
    "exports_dir: Path = Path(\"exports\")\n",
    "exports_extended_dir: Path = Path(\"Xports\")\n",
    "exports_extended_dir.mkdir(exist_ok=True, parents=True)"
   ]
  },
  {
   "cell_type": "code",
   "execution_count": 2,
   "outputs": [],
   "source": [
    "WAC_dir = ud_dir / \"WAC\"\n",
    "\n",
    "with StringIO() as all_txt:\n",
    "    for connlu in WAC_dir.glob(\"*.conllu\"):\n",
    "        # print(connlu)\n",
    "        with open(connlu, \"r\", encoding=\"utf-8\") as f:\n",
    "            all_txt.write(f.read())\n",
    "\n",
    "    sents = tuple(s.split(\"# sent_id = \")[-1] for s in all_txt.getvalue().split(\"\\n\\n\") if s != \"\")\n",
    "\n",
    "    all_txt.close()\n"
   ],
   "metadata": {
    "collapsed": false,
    "ExecuteTime": {
     "end_time": "2023-09-19T15:58:13.809191400Z",
     "start_time": "2023-09-19T15:58:04.003006400Z"
    }
   },
   "id": "8fc68c703b249b6b"
  },
  {
   "cell_type": "code",
   "execution_count": 3,
   "outputs": [
    {
     "data": {
      "text/plain": "\"120000\\n# text = Au moment d'écrire ces lignes, M. Soucy mentionnait au Pharillon qu'il était certain que le mouvement de sol allait se poursuivre à cet endroit.\\n1\\tAu\\tau\\tADP\\tADP\\tDefinite=Def|Gender=Masc|Number=Sing|PronType=Art\\t2\\tcase\\t2:case\\t_\\n2\\tmoment\\tmoment\\tNOUN\\tNOUN\\tGender=Masc|Number=Sing\\t4\\tobl:mod\\t4:obl:mod\\t_\\n3\\td'\\tde\\tADP\\tADP\\t_\\t4\\tmark\\t4:mark\\tSpaceAfter=No\\n4\\técrire\\técrire\\tVERB\\tVERB\\tVerbForm=Inf\\t10\\tadvcl\\t10:advcl\\t_\\n5\\tces\\tce\\tDET\\tDET\\tNumber=Plur|PronType=Dem\\t6\\tdet\\t6:det\\t_\\n6\\tlignes\\tligne\\tNOUN\\tNOUN\\tGender=Fem|Number=Plur\\t4\\tobj\\t4:obj\\tSpaceAfter=No\\n7\\t,\\t,\\tPUNCT\\tPUNCT\\t_\\t10\\tpunct\\t10:punct\\t_\\n8\\tM.\\tm.\\tNOUN\\tNOUN\\tGender=Masc|Number=Sing\\t10\\tnsubj\\t10:nsubj\\t_\\n9\\tSoucy\\tSoucy\\tPROPN\\tPROPN\\t_\\t8\\tflat:name\\t8:flat:name\\t_\\n10\\tmentionnait\\tmentionner\\tVERB\\tVERB\\tMood=Ind|Number=Sing|Person=3|Tense=Imp|VerbForm=Fin\\t0\\troot\\t0:root\\t_\\n11\\tau\\tau\\tADP\\tADP\\tDefinite=Def|Gender=Masc|Number=Sing|PronType=Art\\t12\\tcase\\t12:case\\t_\\n12\\tPharillon\\tPharillon\\tPROPN\\tPROPN\\t_\\t10\\tobl:arg\\t10:obl:arg\\t_\\n13\\tqu'\\tque\\tSCONJ\\tSCONJ\\t_\\t16\\tmark\\t16:mark\\tSpaceAfter=No\\n14\\til\\til\\tPRON\\tPRON\\tGender=Masc|Number=Sing|Person=3\\t16\\texpl:subj\\t16:expl:subj\\t_\\n15\\tétait\\têtre\\tAUX\\tAUX\\tMood=Ind|Number=Sing|Person=3|Tense=Imp|VerbForm=Fin\\t16\\tcop\\t16:cop\\t_\\n16\\tcertain\\tcertain\\tADJ\\tADJ\\tGender=Masc|Number=Sing\\t10\\tccomp\\t10:ccomp\\t_\\n17\\tque\\tque\\tSCONJ\\tSCONJ\\t_\\t22\\tmark\\t22:mark\\t_\\n18\\tle\\tle\\tDET\\tDET\\tDefinite=Def|Gender=Masc|Number=Sing|PronType=Art\\t19\\tdet\\t19:det\\t_\\n19\\tmouvement\\tmouvement\\tNOUN\\tNOUN\\tGender=Masc|Number=Sing\\t22\\tnsubj\\t22:nsubj\\t_\\n20\\tde\\tde\\tADP\\tADP\\t_\\t21\\tcase\\t21:case\\t_\\n21\\tsol\\tsol\\tNOUN\\tNOUN\\tGender=Masc|Number=Sing\\t19\\tnmod\\t19:nmod\\t_\\n22\\tallait\\taller\\tVERB\\tVERB\\tMood=Ind|Number=Sing|Person=3|Tense=Imp|VerbForm=Fin\\t16\\tccomp\\t16:ccomp\\t_\\n23\\tse\\tse\\tPRON\\tPRON\\tPerson=3|Reflex=Yes\\t24\\texpl:comp\\t24:expl:comp\\t_\\n24\\tpoursuivre\\tpoursuivre\\tVERB\\tVERB\\tVerbForm=Inf\\t22\\txcomp\\t22:xcomp\\t_\\n25\\tà\\tà\\tADP\\tADP\\t_\\t27\\tcase\\t27:case\\t_\\n26\\tcet\\tce\\tDET\\tDET\\tGender=Masc|Number=Sing|PronType=Dem\\t27\\tdet\\t27:det\\t_\\n27\\tendroit\\tendroit\\tNOUN\\tNOUN\\tGender=Masc|Number=Sing\\t24\\tobl:mod\\t24:obl:mod\\tSpaceAfter=No\\n28\\t.\\t.\\tPUNCT\\tPUNCT\\t_\\t10\\tpunct\\t10:punct\\tSpaceAfter=No\""
     },
     "execution_count": 3,
     "metadata": {},
     "output_type": "execute_result"
    }
   ],
   "source": [
    "sent = sents[0]\n",
    "sent"
   ],
   "metadata": {
    "collapsed": false,
    "ExecuteTime": {
     "end_time": "2023-09-19T15:58:13.830714900Z",
     "start_time": "2023-09-19T15:58:13.810194200Z"
    }
   },
   "id": "893c1290ada86ccf"
  },
  {
   "cell_type": "code",
   "execution_count": 4,
   "outputs": [
    {
     "name": "stdout",
     "output_type": "stream",
     "text": [
      "('Au', 'moment', \"d'\", 'écrire', 'ces', 'lignes', ',', 'M.', 'Soucy', 'mentionnait', 'au', 'Pharillon', \"qu'\", 'il', 'était', 'certain', 'que', 'le', 'mouvement', 'de', 'sol', 'allait', 'se', 'poursuivre', 'à', 'cet', 'endroit', '.')\n"
     ]
    }
   ],
   "source": [
    "class ConnluLine:\n",
    "    columns: tuple[str] = (\"ID\", \"FORM\", \"LEMMA\", \"UPOS\", \"XPOS\", \"FEATS\", \"HEAD\", \"DEPREL\", \"DEPS\", \"MISC\")\n",
    "    len_col = len(columns)\n",
    "    \n",
    "    def __init__(self, line: str):\n",
    "        self.ID, self.FORM, self.LEMMA, self.UPOS, self.XPOS, self.FEATS, self.HEAD, self.DEPREL, self.DEPS, self.MISC = line.split(\"\\t\")\n",
    "        \n",
    "    def __repr__(self):\n",
    "        return f\"\"\"ConnluLine({\" \".join(f\"{col}: {getattr(self, col)}\" for col in self.columns)})\"\"\"\n",
    "    \n",
    "    def __str__(self):\n",
    "        return \"\\t\".join(getattr(self, col) for col in self.columns)\n",
    "    \n",
    "    def __eq__(self, other):\n",
    "        return all(getattr(self, col) == getattr(other, col) for col in self.columns)\n",
    "    \n",
    "    def __hash__(self):\n",
    "        return hash(str(self))\n",
    "    \n",
    "    def __getitem__(self, key):\n",
    "        if isinstance(key, int):\n",
    "            return getattr(self, self.columns[key])\n",
    "        elif isinstance(key, str):\n",
    "            return getattr(self, key)\n",
    "        else:\n",
    "            raise TypeError(f\"ConnluLine indices must be integers or strings, not {type(key)}\")\n",
    "        \n",
    "    def __setitem__(self, key, value):\n",
    "        if isinstance(key, int):\n",
    "            setattr(self, self.columns[key], value)\n",
    "        elif isinstance(key, str):\n",
    "            setattr(self, key, value)\n",
    "        else:\n",
    "            raise TypeError(f\"ConnluLine indices must be integers or strings, not {type(key)}\")\n",
    "        \n",
    "    def __iter__(self):\n",
    "        for col in self.columns:\n",
    "            yield getattr(self, col)\n",
    "            \n",
    "    def __len__(self):\n",
    "        return self.len_col\n",
    "    \n",
    "\n",
    "class ConnluSent:\n",
    "    \n",
    "    def __init__(self, string: str):\n",
    "        decoupe = [line.strip() for line in string.split(\"\\n\") if line != \"\" and not line.startswith(\"#\")]\n",
    "        self.id = decoupe[0]\n",
    "        self.lines = tuple(ConnluLine(line) for line in decoupe[1:])\n",
    "        \n",
    "    def __repr__(self):\n",
    "        return f\"\"\"ConnluSent({self.id}, {self.lines})\"\"\"\n",
    "    \n",
    "    def __str__(self):\n",
    "        return \"\\n\".join((self.id, *map(str, self.lines)))\n",
    "    \n",
    "    def __eq__(self, other):\n",
    "        return self.id == other.id and self.lines == other.lines\n",
    "    \n",
    "    def __hash__(self):\n",
    "        return hash(str(self))\n",
    "    \n",
    "    def __getitem__(self, key):\n",
    "        if isinstance(key, int):\n",
    "            return self.lines[key]\n",
    "        elif isinstance(key, str):\n",
    "            return tuple(line[key] for line in self.lines)\n",
    "        else:\n",
    "            raise TypeError(f\"ConnluSent indices must be integers or strings, not {type(key)}\")\n",
    "        \n",
    "        \n",
    "cs = ConnluSent(sent)\n",
    "\n",
    "forms = cs[\"FORM\"]\n",
    "print(forms)\n",
    "        \n",
    "    \n",
    "    "
   ],
   "metadata": {
    "collapsed": false,
    "ExecuteTime": {
     "end_time": "2023-09-19T15:58:13.948176800Z",
     "start_time": "2023-09-19T15:58:13.816685600Z"
    }
   },
   "id": "cd4e6e3820a0dfa6"
  },
  {
   "cell_type": "code",
   "execution_count": 5,
   "outputs": [
    {
     "data": {
      "text/plain": "ConnluLine(ID: 1 FORM: Au LEMMA: au UPOS: ADP XPOS: ADP FEATS: Definite=Def|Gender=Masc|Number=Sing|PronType=Art HEAD: 2 DEPREL: case DEPS: 2:case MISC: _)"
     },
     "execution_count": 5,
     "metadata": {},
     "output_type": "execute_result"
    }
   ],
   "source": [
    "ConnluLine(sent.split(\"\\n\")[2])"
   ],
   "metadata": {
    "collapsed": false,
    "ExecuteTime": {
     "end_time": "2023-09-19T15:58:13.949676900Z",
     "start_time": "2023-09-19T15:58:13.857780600Z"
    }
   },
   "id": "7ee7174477a943b6"
  },
  {
   "cell_type": "code",
   "execution_count": 6,
   "outputs": [
    {
     "data": {
      "text/plain": "'1\\tAu\\tau\\tADP\\tADP\\tDefinite=Def|Gender=Masc|Number=Sing|PronType=Art\\t2\\tcase\\t2:case\\t_'"
     },
     "execution_count": 6,
     "metadata": {},
     "output_type": "execute_result"
    }
   ],
   "source": [
    "sent.split(\"\\n\")[2]"
   ],
   "metadata": {
    "collapsed": false,
    "ExecuteTime": {
     "end_time": "2023-09-19T15:58:13.949676900Z",
     "start_time": "2023-09-19T15:58:13.864266700Z"
    }
   },
   "id": "759e6dbfea8a260a"
  },
  {
   "cell_type": "code",
   "execution_count": 16,
   "outputs": [],
   "source": [
    "import pandas as pd"
   ],
   "metadata": {
    "collapsed": false,
    "ExecuteTime": {
     "end_time": "2023-09-25T15:42:29.169333075Z",
     "start_time": "2023-09-25T15:42:29.023169542Z"
    }
   },
   "id": "78a52fdf317448ea"
  },
  {
   "cell_type": "code",
   "execution_count": 17,
   "outputs": [],
   "source": [
    "df = pd.read_csv(\"/home/marceau/PycharmProjects/UNDERGREW/Xports/WAC/VERB.csv\")\n"
   ],
   "metadata": {
    "collapsed": false,
    "ExecuteTime": {
     "end_time": "2023-09-25T15:42:50.839230260Z",
     "start_time": "2023-09-25T15:42:29.082751523Z"
    }
   },
   "id": "12cf4d75b4b8669"
  },
  {
   "cell_type": "code",
   "execution_count": 18,
   "outputs": [
    {
     "data": {
      "text/plain": "               FORM      LEMMA       pivot\n0          marquait    marquer    marquait\n1          critiqué  critiquer    critiqué\n2         passerait     passer   passerait\n3        appliquant  appliquer  appliquant\n4          disposez   disposer    disposez\n...             ...        ...         ...\n2041676     perdant     perdre     perdant\n2041677      étoffé    étoffer      étoffé\n2041678   renforcer  renforcer   renforcer\n2041679     ouvrira     ouvrir     ouvrira\n2041680      adopté    adopter      adopté\n\n[2041681 rows x 3 columns]",
      "text/html": "<div>\n<style scoped>\n    .dataframe tbody tr th:only-of-type {\n        vertical-align: middle;\n    }\n\n    .dataframe tbody tr th {\n        vertical-align: top;\n    }\n\n    .dataframe thead th {\n        text-align: right;\n    }\n</style>\n<table border=\"1\" class=\"dataframe\">\n  <thead>\n    <tr style=\"text-align: right;\">\n      <th></th>\n      <th>FORM</th>\n      <th>LEMMA</th>\n      <th>pivot</th>\n    </tr>\n  </thead>\n  <tbody>\n    <tr>\n      <th>0</th>\n      <td>marquait</td>\n      <td>marquer</td>\n      <td>marquait</td>\n    </tr>\n    <tr>\n      <th>1</th>\n      <td>critiqué</td>\n      <td>critiquer</td>\n      <td>critiqué</td>\n    </tr>\n    <tr>\n      <th>2</th>\n      <td>passerait</td>\n      <td>passer</td>\n      <td>passerait</td>\n    </tr>\n    <tr>\n      <th>3</th>\n      <td>appliquant</td>\n      <td>appliquer</td>\n      <td>appliquant</td>\n    </tr>\n    <tr>\n      <th>4</th>\n      <td>disposez</td>\n      <td>disposer</td>\n      <td>disposez</td>\n    </tr>\n    <tr>\n      <th>...</th>\n      <td>...</td>\n      <td>...</td>\n      <td>...</td>\n    </tr>\n    <tr>\n      <th>2041676</th>\n      <td>perdant</td>\n      <td>perdre</td>\n      <td>perdant</td>\n    </tr>\n    <tr>\n      <th>2041677</th>\n      <td>étoffé</td>\n      <td>étoffer</td>\n      <td>étoffé</td>\n    </tr>\n    <tr>\n      <th>2041678</th>\n      <td>renforcer</td>\n      <td>renforcer</td>\n      <td>renforcer</td>\n    </tr>\n    <tr>\n      <th>2041679</th>\n      <td>ouvrira</td>\n      <td>ouvrir</td>\n      <td>ouvrira</td>\n    </tr>\n    <tr>\n      <th>2041680</th>\n      <td>adopté</td>\n      <td>adopter</td>\n      <td>adopté</td>\n    </tr>\n  </tbody>\n</table>\n<p>2041681 rows × 3 columns</p>\n</div>"
     },
     "execution_count": 18,
     "metadata": {},
     "output_type": "execute_result"
    }
   ],
   "source": [
    "df[[\"FORM\", \"LEMMA\", \"pivot\"]]"
   ],
   "metadata": {
    "collapsed": false,
    "ExecuteTime": {
     "end_time": "2023-09-25T15:42:50.919446043Z",
     "start_time": "2023-09-25T15:42:50.803426985Z"
    }
   },
   "id": "b92a2659bba5fdec"
  },
  {
   "cell_type": "code",
   "execution_count": 11,
   "outputs": [
    {
     "data": {
      "text/plain": "Index(['sent_id', 'left_context', 'pivot', 'right_context', 'ID', 'FORM',\n       'LEMMA', 'UPOS', 'XPOS', 'FEATS', 'HEAD', 'DEPREL', 'DEPS', 'MISC',\n       'dist'],\n      dtype='object')"
     },
     "execution_count": 11,
     "metadata": {},
     "output_type": "execute_result"
    }
   ],
   "source": [
    "df.columns"
   ],
   "metadata": {
    "collapsed": false,
    "ExecuteTime": {
     "end_time": "2023-09-25T11:02:19.768985213Z",
     "start_time": "2023-09-25T11:02:19.713914850Z"
    }
   },
   "id": "dec8f9d399431299"
  }
 ],
 "metadata": {
  "kernelspec": {
   "display_name": "Python 3",
   "language": "python",
   "name": "python3"
  },
  "language_info": {
   "codemirror_mode": {
    "name": "ipython",
    "version": 2
   },
   "file_extension": ".py",
   "mimetype": "text/x-python",
   "name": "python",
   "nbconvert_exporter": "python",
   "pygments_lexer": "ipython2",
   "version": "2.7.6"
  }
 },
 "nbformat": 4,
 "nbformat_minor": 5
}
