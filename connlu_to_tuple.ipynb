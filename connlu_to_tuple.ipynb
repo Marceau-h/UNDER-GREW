{
 "cells": [
  {
   "cell_type": "code",
   "execution_count": 1,
   "id": "initial_id",
   "metadata": {
    "collapsed": true,
    "ExecuteTime": {
     "end_time": "2023-09-19T13:33:32.591108233Z",
     "start_time": "2023-09-19T13:33:27.894350094Z"
    }
   },
   "outputs": [],
   "source": [
    "import json\n",
    "import re\n",
    "from pathlib import Path\n",
    "from io import StringIO\n",
    "from multiprocessing import Pool, cpu_count\n",
    "\n",
    "import pandas as pd\n",
    "from tqdm.auto import tqdm\n",
    "\n",
    "import spacy\n",
    "\n",
    "subfolder: Path\n",
    "\n",
    "nlp: spacy.language = spacy.load(\"fr_core_news_sm\")\n",
    "columns: list[str] = [\"ID\", \"FORM\", \"LEMMA\", \"UPOS\", \"XPOS\", \"FEATS\", \"HEAD\", \"DEPREL\", \"DEPS\", \"MISC\"]\n",
    "ud_dir: Path = Path(\"UD\")\n",
    "exports_dir: Path = Path(\"exports\")\n",
    "exports_extended_dir: Path = Path(\"Xports\")\n",
    "exports_extended_dir.mkdir(exist_ok=True, parents=True)"
   ]
  },
  {
   "cell_type": "code",
   "execution_count": 2,
   "outputs": [],
   "source": [
    "WAC_dir = ud_dir / \"WAC\"\n",
    "\n",
    "with StringIO() as all_txt:\n",
    "    for connlu in WAC_dir.glob(\"*.conllu\"):\n",
    "        # print(connlu)\n",
    "        with open(connlu, \"r\", encoding=\"utf-8\") as f:\n",
    "            all_txt.write(f.read())\n",
    "\n",
    "    sents = tuple(s.split(\"# sent_id = \")[-1] for s in all_txt.getvalue().split(\"\\n\\n\") if s != \"\")\n",
    "\n",
    "    all_txt.close()\n"
   ],
   "metadata": {
    "collapsed": false,
    "ExecuteTime": {
     "end_time": "2023-09-19T13:35:27.807591871Z",
     "start_time": "2023-09-19T13:35:18.597712931Z"
    }
   },
   "id": "8fc68c703b249b6b"
  },
  {
   "cell_type": "code",
   "execution_count": 6,
   "outputs": [
    {
     "data": {
      "text/plain": "'300000\\n# text = Une seule chose pourra toutefois encore être modifiée, la rencontre pourrait commencer à 19h30\", affirmait ainsi le patron du Slavia, Vladimir Leska, en décembre 2003.\\n1\\tUne\\tun\\tDET\\tDET\\tDefinite=Ind|Gender=Fem|Number=Sing|PronType=Art\\t3\\tdet\\t3:det\\t_\\n2\\tseule\\tseul\\tADJ\\tADJ\\tGender=Fem|Number=Sing\\t3\\tamod\\t3:amod\\t_\\n3\\tchose\\tchose\\tNOUN\\tNOUN\\tGender=Fem|Number=Sing\\t4\\tnsubj\\t4:nsubj\\t_\\n4\\tpourra\\tpouvoir\\tVERB\\tVERB\\tMood=Ind|Number=Sing|Person=3|Tense=Fut|VerbForm=Fin\\t0\\troot\\t0:root\\t_\\n5\\ttoutefois\\ttoutefois\\tADV\\tADV\\t_\\t4\\tadvmod\\t4:advmod\\t_\\n6\\tencore\\tencore\\tADV\\tADV\\t_\\t4\\tadvmod\\t4:advmod\\t_\\n7\\têtre\\têtre\\tAUX\\tAUX\\tVerbForm=Inf\\t8\\taux:pass\\t8:aux:pass\\t_\\n8\\tmodifiée\\tmodifier\\tVERB\\tVERB\\tGender=Fem|Number=Sing|Tense=Past|VerbForm=Part|Voice=Pass\\t4\\txcomp\\t4:xcomp\\tSpaceAfter=No\\n9\\t,\\t,\\tPUNCT\\tPUNCT\\t_\\t4\\tpunct\\t4:punct\\t_\\n10\\tla\\tle\\tDET\\tDET\\tDefinite=Def|Gender=Fem|Number=Sing|PronType=Art\\t11\\tdet\\t11:det\\t_\\n11\\trencontre\\trencontre\\tNOUN\\tNOUN\\tGender=Fem|Number=Sing\\t12\\tnsubj\\t12:nsubj\\t_\\n12\\tpourrait\\tpouvoir\\tVERB\\tVERB\\tMood=Cnd|Number=Sing|Person=3|Tense=Pres|VerbForm=Fin\\t4\\tadvcl\\t4:advcl\\t_\\n13\\tcommencer\\tcommencer\\tVERB\\tVERB\\tVerbForm=Inf\\t12\\txcomp\\t12:xcomp\\t_\\n14\\tà\\tà\\tADP\\tADP\\t_\\t15\\tcase\\t15:case\\t_\\n15\\t19h30\\t19h30\\tNOUN\\tNOUN\\tGender=Masc\\t13\\tobl:mod\\t13:obl:mod\\tSpaceAfter=No\\n16\\t\"\\t\"\\tPUNCT\\tPUNCT\\t_\\t4\\tpunct\\t4:punct\\tSpaceAfter=No\\n17\\t,\\t,\\tPUNCT\\tPUNCT\\t_\\t4\\tpunct\\t4:punct\\t_\\n18\\taffirmait\\taffirmer\\tVERB\\tVERB\\tMood=Ind|Number=Sing|Person=3|Tense=Imp|VerbForm=Fin\\t4\\tparataxis\\t4:parataxis\\t_\\n19\\tainsi\\tainsi\\tADV\\tADV\\t_\\t18\\tadvmod\\t18:advmod\\t_\\n20\\tle\\tle\\tDET\\tDET\\tDefinite=Def|Gender=Masc|Number=Sing|PronType=Art\\t21\\tdet\\t21:det\\t_\\n21\\tpatron\\tpatron\\tNOUN\\tNOUN\\tGender=Masc|Number=Sing\\t18\\tnsubj\\t18:nsubj\\t_\\n22\\tdu\\tde\\tADP\\tADP\\tDefinite=Def|Gender=Masc|Number=Sing|PronType=Art\\t23\\tcase\\t23:case\\t_\\n23\\tSlavia\\tSlavia\\tPROPN\\tPROPN\\t_\\t21\\tnmod\\t21:nmod\\tSpaceAfter=No\\n24\\t,\\t,\\tPUNCT\\tPUNCT\\t_\\t21\\tpunct\\t21:punct\\t_\\n25\\tVladimir\\tVladimir\\tPROPN\\tPROPN\\tGender=Masc|Number=Sing\\t21\\tappos\\t21:appos\\t_\\n26\\tLeska\\tLeska\\tPROPN\\tPROPN\\t_\\t25\\tflat:name\\t25:flat:name\\tSpaceAfter=No\\n27\\t,\\t,\\tPUNCT\\tPUNCT\\t_\\t21\\tpunct\\t21:punct\\t_\\n28\\ten\\ten\\tADP\\tADP\\t_\\t29\\tcase\\t29:case\\t_\\n29\\tdécembre\\tdécembre\\tNOUN\\tNOUN\\tGender=Masc|Number=Sing\\t18\\tobl:mod\\t18:obl:mod\\t_\\n30\\t2003\\t2003\\tNUM\\tNUM\\tNumType=Card\\t29\\tnmod\\t29:nmod\\tSpaceAfter=No\\n31\\t.\\t.\\tPUNCT\\tPUNCT\\t_\\t4\\tpunct\\t4:punct\\tSpaceAfter=No'"
     },
     "execution_count": 6,
     "metadata": {},
     "output_type": "execute_result"
    }
   ],
   "source": [
    "sent = sents[0]\n",
    "sent"
   ],
   "metadata": {
    "collapsed": false,
    "ExecuteTime": {
     "end_time": "2023-09-19T13:35:59.504694016Z",
     "start_time": "2023-09-19T13:35:59.462858158Z"
    }
   },
   "id": "893c1290ada86ccf"
  },
  {
   "cell_type": "code",
   "execution_count": 19,
   "outputs": [
    {
     "name": "stdout",
     "output_type": "stream",
     "text": [
      "('Une', 'seule', 'chose', 'pourra', 'toutefois', 'encore', 'être', 'modifiée', ',', 'la', 'rencontre', 'pourrait', 'commencer', 'à', '19h30', '\"', ',', 'affirmait', 'ainsi', 'le', 'patron', 'du', 'Slavia', ',', 'Vladimir', 'Leska', ',', 'en', 'décembre', '2003', '.')\n"
     ]
    }
   ],
   "source": [
    "class ConnluLine:\n",
    "    columns: tuple[str] = (\"ID\", \"FORM\", \"LEMMA\", \"UPOS\", \"XPOS\", \"FEATS\", \"HEAD\", \"DEPREL\", \"DEPS\", \"MISC\")\n",
    "    len_col = len(columns)\n",
    "    \n",
    "    def __init__(self, line: str):\n",
    "        self.ID, self.FORM, self.LEMMA, self.UPOS, self.XPOS, self.FEATS, self.HEAD, self.DEPREL, self.DEPS, self.MISC = line.split(\"\\t\")\n",
    "        \n",
    "    def __repr__(self):\n",
    "        return f\"\"\"ConnluLine({\" \".join(f\"{col}: {getattr(self, col)}\" for col in self.columns)})\"\"\"\n",
    "    \n",
    "    def __str__(self):\n",
    "        return \"\\t\".join(getattr(self, col) for col in self.columns)\n",
    "    \n",
    "    def __eq__(self, other):\n",
    "        return all(getattr(self, col) == getattr(other, col) for col in self.columns)\n",
    "    \n",
    "    def __hash__(self):\n",
    "        return hash(str(self))\n",
    "    \n",
    "    def __getitem__(self, key):\n",
    "        if isinstance(key, int):\n",
    "            return getattr(self, self.columns[key])\n",
    "        elif isinstance(key, str):\n",
    "            return getattr(self, key)\n",
    "        else:\n",
    "            raise TypeError(f\"ConnluLine indices must be integers or strings, not {type(key)}\")\n",
    "        \n",
    "    def __setitem__(self, key, value):\n",
    "        if isinstance(key, int):\n",
    "            setattr(self, self.columns[key], value)\n",
    "        elif isinstance(key, str):\n",
    "            setattr(self, key, value)\n",
    "        else:\n",
    "            raise TypeError(f\"ConnluLine indices must be integers or strings, not {type(key)}\")\n",
    "        \n",
    "    def __iter__(self):\n",
    "        for col in self.columns:\n",
    "            yield getattr(self, col)\n",
    "            \n",
    "    def __len__(self):\n",
    "        return self.len_col\n",
    "    \n",
    "\n",
    "class ConnluSent:\n",
    "    \n",
    "    def __init__(self, string: str):\n",
    "        decoupe = [line.strip() for line in string.split(\"\\n\") if line != \"\" and not line.startswith(\"#\")]\n",
    "        self.id = decoupe[0]\n",
    "        self.lines = tuple(ConnluLine(line) for line in decoupe[1:])\n",
    "        \n",
    "    def __repr__(self):\n",
    "        return f\"\"\"ConnluSent({self.id}, {self.lines})\"\"\"\n",
    "    \n",
    "    def __str__(self):\n",
    "        return \"\\n\".join((self.id, *map(str, self.lines)))\n",
    "    \n",
    "    def __eq__(self, other):\n",
    "        return self.id == other.id and self.lines == other.lines\n",
    "    \n",
    "    def __hash__(self):\n",
    "        return hash(str(self))\n",
    "    \n",
    "    def __getitem__(self, key):\n",
    "        if isinstance(key, int):\n",
    "            return self.lines[key]\n",
    "        elif isinstance(key, str):\n",
    "            return tuple(line[key] for line in self.lines)\n",
    "        else:\n",
    "            raise TypeError(f\"ConnluSent indices must be integers or strings, not {type(key)}\")\n",
    "        \n",
    "        \n",
    "cs = ConnluSent(sent)\n",
    "\n",
    "forms = cs[\"FORM\"]\n",
    "print(forms)\n",
    "        \n",
    "    \n",
    "    "
   ],
   "metadata": {
    "collapsed": false,
    "ExecuteTime": {
     "end_time": "2023-09-19T13:53:11.905519483Z",
     "start_time": "2023-09-19T13:53:11.902599700Z"
    }
   },
   "id": "cd4e6e3820a0dfa6"
  },
  {
   "cell_type": "code",
   "execution_count": 12,
   "outputs": [
    {
     "data": {
      "text/plain": "ConnluLine(ID: 1 FORM: Une LEMMA: un UPOS: DET XPOS: DET FEATS: Definite=Ind|Gender=Fem|Number=Sing|PronType=Art HEAD: 3 DEPREL: det DEPS: 3:det MISC: _)"
     },
     "execution_count": 12,
     "metadata": {},
     "output_type": "execute_result"
    }
   ],
   "source": [
    "ConnluLine(sent.split(\"\\n\")[2])"
   ],
   "metadata": {
    "collapsed": false,
    "ExecuteTime": {
     "end_time": "2023-09-19T13:47:04.585878491Z",
     "start_time": "2023-09-19T13:47:04.576350383Z"
    }
   },
   "id": "7ee7174477a943b6"
  },
  {
   "cell_type": "code",
   "execution_count": 13,
   "outputs": [
    {
     "data": {
      "text/plain": "'1\\tUne\\tun\\tDET\\tDET\\tDefinite=Ind|Gender=Fem|Number=Sing|PronType=Art\\t3\\tdet\\t3:det\\t_'"
     },
     "execution_count": 13,
     "metadata": {},
     "output_type": "execute_result"
    }
   ],
   "source": [
    "sent.split(\"\\n\")[2]"
   ],
   "metadata": {
    "collapsed": false,
    "ExecuteTime": {
     "end_time": "2023-09-19T13:47:09.189289736Z",
     "start_time": "2023-09-19T13:47:09.185607484Z"
    }
   },
   "id": "759e6dbfea8a260a"
  }
 ],
 "metadata": {
  "kernelspec": {
   "display_name": "Python 3",
   "language": "python",
   "name": "python3"
  },
  "language_info": {
   "codemirror_mode": {
    "name": "ipython",
    "version": 2
   },
   "file_extension": ".py",
   "mimetype": "text/x-python",
   "name": "python",
   "nbconvert_exporter": "python",
   "pygments_lexer": "ipython2",
   "version": "2.7.6"
  }
 },
 "nbformat": 4,
 "nbformat_minor": 5
}
