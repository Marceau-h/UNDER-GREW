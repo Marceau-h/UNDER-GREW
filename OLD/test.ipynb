{
 "cells": [
  {
   "cell_type": "code",
   "execution_count": 1,
   "metadata": {
    "collapsed": true,
    "ExecuteTime": {
     "end_time": "2023-07-26T09:00:19.938051506Z",
     "start_time": "2023-07-26T09:00:17.078014130Z"
    }
   },
   "outputs": [],
   "source": []
  },
  {
   "cell_type": "code",
   "execution_count": 2,
   "outputs": [],
   "source": [
    "\n",
    "\n"
   ],
   "metadata": {
    "collapsed": false,
    "ExecuteTime": {
     "end_time": "2023-07-26T09:00:19.941698592Z",
     "start_time": "2023-07-26T09:00:19.940668728Z"
    }
   }
  },
  {
   "cell_type": "code",
   "execution_count": 3,
   "outputs": [
    {
     "data": {
      "text/plain": "  0%|          | 0/10000 [00:00<?, ?it/s]",
      "application/vnd.jupyter.widget-view+json": {
       "version_major": 2,
       "version_minor": 0,
       "model_id": "d69bc03a70de4e4fb46312a9e97f7958"
      }
     },
     "metadata": {},
     "output_type": "display_data"
    }
   ],
   "source": [],
   "metadata": {
    "collapsed": false,
    "ExecuteTime": {
     "end_time": "2023-07-26T09:01:45.369082577Z",
     "start_time": "2023-07-26T09:00:19.943886582Z"
    }
   }
  },
  {
   "cell_type": "code",
   "execution_count": 4,
   "outputs": [
    {
     "ename": "ZeroDivisionError",
     "evalue": "division by zero",
     "output_type": "error",
     "traceback": [
      "\u001B[0;31m---------------------------------------------------------------------------\u001B[0m",
      "\u001B[0;31mZeroDivisionError\u001B[0m                         Traceback (most recent call last)",
      "Cell \u001B[0;32mIn[4], line 1\u001B[0m\n\u001B[0;32m----> 1\u001B[0m \u001B[38;5;241;43m1\u001B[39;49m\u001B[38;5;241;43m/\u001B[39;49m\u001B[38;5;241;43m0\u001B[39;49m\n",
      "\u001B[0;31mZeroDivisionError\u001B[0m: division by zero"
     ]
    }
   ],
   "source": [
    "1/0"
   ],
   "metadata": {
    "collapsed": false,
    "ExecuteTime": {
     "end_time": "2023-07-26T09:01:45.524629622Z",
     "start_time": "2023-07-26T09:01:45.368645288Z"
    }
   }
  },
  {
   "cell_type": "code",
   "execution_count": null,
   "outputs": [],
   "source": [
    "from io import StringIO\n",
    "\n",
    "with open(file, \"r\", encoding=\"utf-8\") as f:\n",
    "    lines = f.readlines()\n",
    "\n",
    "to_write = {}\n",
    "for i, l in enumerate(lines):\n",
    "    l = l.strip().replace(u\"\\x92\", \"'\").replace(u\"\\x9c\", \"œ\").replace(u\"\\xad\", \"\")\n",
    "    l = l.rsplit(\"\\t\", 1)\n",
    "    to_write[l[0]] = {\n",
    "        \"text\": l[1],\n",
    "        \"connlu\": get_all(l[1])\n",
    "    }\n",
    "\n",
    "\n",
    "srtio = StringIO()\n",
    "srtio.write(\"# global.columns = ID FORM LEMMA UPOS XPOS FEATS HEAD DEPREL DEPS MISC\\n\")\n",
    "for k, v in to_write.items():\n",
    "    srtio.write(f\"# sent_id = {k}\\n\")\n",
    "    srtio.write(f\"# text = {v['text']}\\n\")\n",
    "    for token in v[\"connlu\"]:\n",
    "        srtio.write(\"\\t\".join([str(v) for v in token.values()]) + \"\\n\")\n",
    "    srtio.write(\"\\n\")\n",
    "\n",
    "srtio.seek(0)\n",
    "with open(\"test.conllu\", \"w\", encoding=\"utf-8\") as f:\n",
    "    f.write(srtio.read())\n"
   ],
   "metadata": {
    "collapsed": false
   }
  },
  {
   "cell_type": "code",
   "execution_count": null,
   "outputs": [],
   "source": [
    "to_write"
   ],
   "metadata": {
    "collapsed": false
   }
  },
  {
   "cell_type": "code",
   "execution_count": null,
   "outputs": [],
   "source": [
    "lines"
   ],
   "metadata": {
    "collapsed": false
   }
  },
  {
   "cell_type": "code",
   "execution_count": null,
   "outputs": [],
   "source": [
    "df = pd.DataFrame([l[1:] for l in lines], columns=[\"sent\", \"lemma\", \"pos\", \"dep\"], index=[l[0] for l in lines])"
   ],
   "metadata": {
    "collapsed": false
   }
  },
  {
   "cell_type": "code",
   "execution_count": null,
   "outputs": [],
   "source": [
    "with open(file, \"r\", encoding=\"utf-8\") as f:\n",
    "    lines = f.readlines()\n",
    "\n",
    "lines = lines[:500]\n",
    "\n",
    "for i, l in enumerate(lines):\n",
    "    l = l.strip().replace(u\"\\x92\", \"'\").replace(u\"\\x9c\", \"œ\").replace(u\"\\xad\", \"\")\n",
    "    l = l.rsplit(\"\\t\", 1)\n",
    "    l = l + get_all(l[1])\n",
    "    lines[i] = l\n",
    "\n",
    "\n"
   ],
   "metadata": {
    "collapsed": false
   }
  },
  {
   "cell_type": "code",
   "execution_count": null,
   "outputs": [],
   "source": [
    "df.to_csv(\"test.csv\")\n"
   ],
   "metadata": {
    "collapsed": false
   }
  },
  {
   "cell_type": "code",
   "execution_count": null,
   "outputs": [],
   "source": [
    "\"ID FORM LEMMA UPOS XPOS FEATS HEAD DEPREL DEPS MISC\".split()\n"
   ],
   "metadata": {
    "collapsed": false
   }
  },
  {
   "cell_type": "code",
   "execution_count": null,
   "outputs": [],
   "source": [],
   "metadata": {
    "collapsed": false
   }
  }
 ],
 "metadata": {
  "kernelspec": {
   "display_name": "Python 3",
   "language": "python",
   "name": "python3"
  },
  "language_info": {
   "codemirror_mode": {
    "name": "ipython",
    "version": 2
   },
   "file_extension": ".py",
   "mimetype": "text/x-python",
   "name": "python",
   "nbconvert_exporter": "python",
   "pygments_lexer": "ipython2",
   "version": "2.7.6"
  }
 },
 "nbformat": 4,
 "nbformat_minor": 0
}
