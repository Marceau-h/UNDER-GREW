{
 "cells": [
  {
   "cell_type": "code",
   "execution_count": 2,
   "metadata": {
    "collapsed": true,
    "ExecuteTime": {
     "end_time": "2023-07-10T10:26:13.533276561Z",
     "start_time": "2023-07-10T10:26:13.278069291Z"
    }
   },
   "outputs": [],
   "source": [
    "import sys\n",
    "from random import randint\n",
    "from time import sleep\n",
    "\n",
    "from selenium import webdriver\n",
    "from selenium.webdriver.common.by import By\n",
    "from selenium.webdriver.chrome.options import Options as COptions\n",
    "from selenium.webdriver.support import expected_conditions as EC\n",
    "from selenium.webdriver.support.wait import WebDriverWait\n",
    "\n",
    "import requests\n",
    "\n",
    "import pandas as pd\n",
    "\n",
    "from pathlib import Path\n",
    "\n",
    "from tqdm.auto import tqdm\n",
    "import warnings\n"
   ]
  },
  {
   "cell_type": "code",
   "execution_count": 5,
   "outputs": [],
   "source": [
    "options = COptions()\n",
    "# options.add_argument(\"--headless\")\n",
    "# options.add_argument(\"--no-sandbox\")\n",
    "options.add_argument(\"--window-size=1920,1080\")"
   ],
   "metadata": {
    "collapsed": false,
    "ExecuteTime": {
     "end_time": "2023-07-10T10:27:38.723759981Z",
     "start_time": "2023-07-10T10:27:38.682294001Z"
    }
   }
  },
  {
   "cell_type": "code",
   "execution_count": 6,
   "outputs": [],
   "source": [
    "driver = webdriver.Chrome(options=options)"
   ],
   "metadata": {
    "collapsed": false,
    "ExecuteTime": {
     "end_time": "2023-07-10T10:27:40.271808022Z",
     "start_time": "2023-07-10T10:27:39.074462220Z"
    }
   }
  },
  {
   "cell_type": "code",
   "execution_count": 7,
   "outputs": [],
   "source": [
    "driver.get(\"https://grew.marceau-h.fr\")\n"
   ],
   "metadata": {
    "collapsed": false,
    "ExecuteTime": {
     "end_time": "2023-07-10T10:27:46.328009983Z",
     "start_time": "2023-07-10T10:27:45.812049183Z"
    }
   }
  },
  {
   "cell_type": "code",
   "execution_count": 33,
   "outputs": [],
   "source": [
    "driver.find_element(By.CSS_SELECTOR, \"#navbar-grew > div > div > ul.nav.navbar-nav.groups > li > a\").click()"
   ],
   "metadata": {
    "collapsed": false,
    "ExecuteTime": {
     "end_time": "2023-07-10T10:31:58.003184259Z",
     "start_time": "2023-07-10T10:31:57.970996994Z"
    }
   }
  },
  {
   "cell_type": "code",
   "execution_count": 34,
   "outputs": [
    {
     "data": {
      "text/plain": "['UD_French-FQB@2.12',\n 'UD_French-GSD@2.12',\n 'UD_French-PUD@2.12',\n 'UD_French-ParTUT@2.12',\n 'UD_French-Sequoia@2.12',\n 'UD_French-ParisStories@2.12',\n 'UD_French-Rhapsodie@2.12',\n 'UD_Old_French-SRCMF@2.12']"
     },
     "execution_count": 34,
     "metadata": {},
     "output_type": "execute_result"
    }
   ],
   "source": [
    "liste_corpus = driver.find_elements(By.XPATH, \"//ul[@class='dropdown-menu']/li/a\")\n",
    "liste_corpus = [e.text for e in liste_corpus if e.text]\n",
    "\n",
    "liste_corpus\n"
   ],
   "metadata": {
    "collapsed": false,
    "ExecuteTime": {
     "end_time": "2023-07-10T10:31:59.084711172Z",
     "start_time": "2023-07-10T10:31:58.898517118Z"
    }
   }
  },
  {
   "cell_type": "code",
   "execution_count": 35,
   "outputs": [],
   "source": [
    "for corpus in liste_corpus:\n",
    "    driver.get(\"https://grew.marceau-h.fr/?corpus=\" + corpus)"
   ],
   "metadata": {
    "collapsed": false,
    "ExecuteTime": {
     "end_time": "2023-07-10T10:32:42.323354920Z",
     "start_time": "2023-07-10T10:32:40.336842086Z"
    }
   }
  },
  {
   "cell_type": "code",
   "execution_count": 37,
   "outputs": [
    {
     "ename": "ElementNotInteractableException",
     "evalue": "Message: element not interactable\n  (Session info: chrome=114.0.5735.198)\nStacktrace:\n#0 0x5588ff1df4e3 <unknown>\n#1 0x5588fef0eb00 <unknown>\n#2 0x5588fef4552c <unknown>\n#3 0x5588fef44b0a <unknown>\n#4 0x5588fef6a012 <unknown>\n#5 0x5588fef40b03 <unknown>\n#6 0x5588fef6a1de <unknown>\n#7 0x5588fef8230e <unknown>\n#8 0x5588fef69de3 <unknown>\n#9 0x5588fef3f2dd <unknown>\n#10 0x5588fef4034e <unknown>\n#11 0x5588ff19f3e4 <unknown>\n#12 0x5588ff1a33d7 <unknown>\n#13 0x5588ff1adb20 <unknown>\n#14 0x5588ff1a4023 <unknown>\n#15 0x5588ff1721aa <unknown>\n#16 0x5588ff1c86b8 <unknown>\n#17 0x5588ff1c8847 <unknown>\n#18 0x5588ff1d8243 <unknown>\n#19 0x7f704caa1907 start_thread\n#20 0x7f704cb27870 __clone3\n",
     "output_type": "error",
     "traceback": [
      "\u001B[0;31m---------------------------------------------------------------------------\u001B[0m",
      "\u001B[0;31mElementNotInteractableException\u001B[0m           Traceback (most recent call last)",
      "Cell \u001B[0;32mIn[37], line 2\u001B[0m\n\u001B[1;32m      1\u001B[0m input_ \u001B[38;5;241m=\u001B[39m driver\u001B[38;5;241m.\u001B[39mfind_element(By\u001B[38;5;241m.\u001B[39mCSS_SELECTOR, \u001B[38;5;124m\"\u001B[39m\u001B[38;5;124m#console > div:nth-child(3) > div > div.CodeMirror-scroll > div.CodeMirror-sizer > div > div > div > div.CodeMirror-code > div > pre > span > span\u001B[39m\u001B[38;5;124m\"\u001B[39m)\n\u001B[0;32m----> 2\u001B[0m \u001B[43minput_\u001B[49m\u001B[38;5;241;43m.\u001B[39;49m\u001B[43msend_keys\u001B[49m\u001B[43m(\u001B[49m\u001B[38;5;124;43m\"\u001B[39;49m\u001B[38;5;124;43mtest\u001B[39;49m\u001B[38;5;124;43m\"\u001B[39;49m\u001B[43m)\u001B[49m\n",
      "File \u001B[0;32m~/PycharmProjects/GrewCount/venv/lib/python3.11/site-packages/selenium/webdriver/remote/webelement.py:231\u001B[0m, in \u001B[0;36mWebElement.send_keys\u001B[0;34m(self, *value)\u001B[0m\n\u001B[1;32m    228\u001B[0m             remote_files\u001B[38;5;241m.\u001B[39mappend(\u001B[38;5;28mself\u001B[39m\u001B[38;5;241m.\u001B[39m_upload(file))\n\u001B[1;32m    229\u001B[0m         value \u001B[38;5;241m=\u001B[39m \u001B[38;5;124m\"\u001B[39m\u001B[38;5;130;01m\\n\u001B[39;00m\u001B[38;5;124m\"\u001B[39m\u001B[38;5;241m.\u001B[39mjoin(remote_files)\n\u001B[0;32m--> 231\u001B[0m \u001B[38;5;28;43mself\u001B[39;49m\u001B[38;5;241;43m.\u001B[39;49m\u001B[43m_execute\u001B[49m\u001B[43m(\u001B[49m\n\u001B[1;32m    232\u001B[0m \u001B[43m    \u001B[49m\u001B[43mCommand\u001B[49m\u001B[38;5;241;43m.\u001B[39;49m\u001B[43mSEND_KEYS_TO_ELEMENT\u001B[49m\u001B[43m,\u001B[49m\u001B[43m \u001B[49m\u001B[43m{\u001B[49m\u001B[38;5;124;43m\"\u001B[39;49m\u001B[38;5;124;43mtext\u001B[39;49m\u001B[38;5;124;43m\"\u001B[39;49m\u001B[43m:\u001B[49m\u001B[43m \u001B[49m\u001B[38;5;124;43m\"\u001B[39;49m\u001B[38;5;124;43m\"\u001B[39;49m\u001B[38;5;241;43m.\u001B[39;49m\u001B[43mjoin\u001B[49m\u001B[43m(\u001B[49m\u001B[43mkeys_to_typing\u001B[49m\u001B[43m(\u001B[49m\u001B[43mvalue\u001B[49m\u001B[43m)\u001B[49m\u001B[43m)\u001B[49m\u001B[43m,\u001B[49m\u001B[43m \u001B[49m\u001B[38;5;124;43m\"\u001B[39;49m\u001B[38;5;124;43mvalue\u001B[39;49m\u001B[38;5;124;43m\"\u001B[39;49m\u001B[43m:\u001B[49m\u001B[43m \u001B[49m\u001B[43mkeys_to_typing\u001B[49m\u001B[43m(\u001B[49m\u001B[43mvalue\u001B[49m\u001B[43m)\u001B[49m\u001B[43m}\u001B[49m\n\u001B[1;32m    233\u001B[0m \u001B[43m\u001B[49m\u001B[43m)\u001B[49m\n",
      "File \u001B[0;32m~/PycharmProjects/GrewCount/venv/lib/python3.11/site-packages/selenium/webdriver/remote/webelement.py:395\u001B[0m, in \u001B[0;36mWebElement._execute\u001B[0;34m(self, command, params)\u001B[0m\n\u001B[1;32m    393\u001B[0m     params \u001B[38;5;241m=\u001B[39m {}\n\u001B[1;32m    394\u001B[0m params[\u001B[38;5;124m\"\u001B[39m\u001B[38;5;124mid\u001B[39m\u001B[38;5;124m\"\u001B[39m] \u001B[38;5;241m=\u001B[39m \u001B[38;5;28mself\u001B[39m\u001B[38;5;241m.\u001B[39m_id\n\u001B[0;32m--> 395\u001B[0m \u001B[38;5;28;01mreturn\u001B[39;00m \u001B[38;5;28;43mself\u001B[39;49m\u001B[38;5;241;43m.\u001B[39;49m\u001B[43m_parent\u001B[49m\u001B[38;5;241;43m.\u001B[39;49m\u001B[43mexecute\u001B[49m\u001B[43m(\u001B[49m\u001B[43mcommand\u001B[49m\u001B[43m,\u001B[49m\u001B[43m \u001B[49m\u001B[43mparams\u001B[49m\u001B[43m)\u001B[49m\n",
      "File \u001B[0;32m~/PycharmProjects/GrewCount/venv/lib/python3.11/site-packages/selenium/webdriver/remote/webdriver.py:346\u001B[0m, in \u001B[0;36mWebDriver.execute\u001B[0;34m(self, driver_command, params)\u001B[0m\n\u001B[1;32m    344\u001B[0m response \u001B[38;5;241m=\u001B[39m \u001B[38;5;28mself\u001B[39m\u001B[38;5;241m.\u001B[39mcommand_executor\u001B[38;5;241m.\u001B[39mexecute(driver_command, params)\n\u001B[1;32m    345\u001B[0m \u001B[38;5;28;01mif\u001B[39;00m response:\n\u001B[0;32m--> 346\u001B[0m     \u001B[38;5;28;43mself\u001B[39;49m\u001B[38;5;241;43m.\u001B[39;49m\u001B[43merror_handler\u001B[49m\u001B[38;5;241;43m.\u001B[39;49m\u001B[43mcheck_response\u001B[49m\u001B[43m(\u001B[49m\u001B[43mresponse\u001B[49m\u001B[43m)\u001B[49m\n\u001B[1;32m    347\u001B[0m     response[\u001B[38;5;124m\"\u001B[39m\u001B[38;5;124mvalue\u001B[39m\u001B[38;5;124m\"\u001B[39m] \u001B[38;5;241m=\u001B[39m \u001B[38;5;28mself\u001B[39m\u001B[38;5;241m.\u001B[39m_unwrap_value(response\u001B[38;5;241m.\u001B[39mget(\u001B[38;5;124m\"\u001B[39m\u001B[38;5;124mvalue\u001B[39m\u001B[38;5;124m\"\u001B[39m, \u001B[38;5;28;01mNone\u001B[39;00m))\n\u001B[1;32m    348\u001B[0m     \u001B[38;5;28;01mreturn\u001B[39;00m response\n",
      "File \u001B[0;32m~/PycharmProjects/GrewCount/venv/lib/python3.11/site-packages/selenium/webdriver/remote/errorhandler.py:245\u001B[0m, in \u001B[0;36mErrorHandler.check_response\u001B[0;34m(self, response)\u001B[0m\n\u001B[1;32m    243\u001B[0m         alert_text \u001B[38;5;241m=\u001B[39m value[\u001B[38;5;124m\"\u001B[39m\u001B[38;5;124malert\u001B[39m\u001B[38;5;124m\"\u001B[39m]\u001B[38;5;241m.\u001B[39mget(\u001B[38;5;124m\"\u001B[39m\u001B[38;5;124mtext\u001B[39m\u001B[38;5;124m\"\u001B[39m)\n\u001B[1;32m    244\u001B[0m     \u001B[38;5;28;01mraise\u001B[39;00m exception_class(message, screen, stacktrace, alert_text)  \u001B[38;5;66;03m# type: ignore[call-arg]  # mypy is not smart enough here\u001B[39;00m\n\u001B[0;32m--> 245\u001B[0m \u001B[38;5;28;01mraise\u001B[39;00m exception_class(message, screen, stacktrace)\n",
      "\u001B[0;31mElementNotInteractableException\u001B[0m: Message: element not interactable\n  (Session info: chrome=114.0.5735.198)\nStacktrace:\n#0 0x5588ff1df4e3 <unknown>\n#1 0x5588fef0eb00 <unknown>\n#2 0x5588fef4552c <unknown>\n#3 0x5588fef44b0a <unknown>\n#4 0x5588fef6a012 <unknown>\n#5 0x5588fef40b03 <unknown>\n#6 0x5588fef6a1de <unknown>\n#7 0x5588fef8230e <unknown>\n#8 0x5588fef69de3 <unknown>\n#9 0x5588fef3f2dd <unknown>\n#10 0x5588fef4034e <unknown>\n#11 0x5588ff19f3e4 <unknown>\n#12 0x5588ff1a33d7 <unknown>\n#13 0x5588ff1adb20 <unknown>\n#14 0x5588ff1a4023 <unknown>\n#15 0x5588ff1721aa <unknown>\n#16 0x5588ff1c86b8 <unknown>\n#17 0x5588ff1c8847 <unknown>\n#18 0x5588ff1d8243 <unknown>\n#19 0x7f704caa1907 start_thread\n#20 0x7f704cb27870 __clone3\n"
     ]
    }
   ],
   "source": [
    "input_ = driver.find_element(By.CSS_SELECTOR, \"#console > div:nth-child(3) > div > div.CodeMirror-scroll > div.CodeMirror-sizer > div > div > div > div.CodeMirror-code > div > pre > span > span\")\n",
    "input_.send_keys(\"test\")\n"
   ],
   "metadata": {
    "collapsed": false,
    "ExecuteTime": {
     "end_time": "2023-07-10T10:34:49.354316159Z",
     "start_time": "2023-07-10T10:34:49.280491400Z"
    }
   }
  },
  {
   "cell_type": "code",
   "execution_count": null,
   "outputs": [],
   "source": [],
   "metadata": {
    "collapsed": false
   }
  }
 ],
 "metadata": {
  "kernelspec": {
   "display_name": "Python 3",
   "language": "python",
   "name": "python3"
  },
  "language_info": {
   "codemirror_mode": {
    "name": "ipython",
    "version": 2
   },
   "file_extension": ".py",
   "mimetype": "text/x-python",
   "name": "python",
   "nbconvert_exporter": "python",
   "pygments_lexer": "ipython2",
   "version": "2.7.6"
  }
 },
 "nbformat": 4,
 "nbformat_minor": 0
}
